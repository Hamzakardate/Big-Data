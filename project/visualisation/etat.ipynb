{
 "cells": [
  {
   "cell_type": "code",
   "execution_count": 1,
   "id": "959b77a8",
   "metadata": {},
   "outputs": [
    {
     "name": "stdout",
     "output_type": "stream",
     "text": [
      "3.7.12\n"
     ]
    }
   ],
   "source": [
    "from platform import python_version\n",
    "\n",
    "print(python_version())"
   ]
  },
  {
   "cell_type": "code",
   "execution_count": 2,
   "id": "bf2f0fad",
   "metadata": {},
   "outputs": [
    {
     "data": {
      "text/plain": [
       "'C:\\\\spark'"
      ]
     },
     "execution_count": 2,
     "metadata": {},
     "output_type": "execute_result"
    }
   ],
   "source": [
    "import findspark\n",
    "findspark.init()\n",
    "findspark.find()"
   ]
  },
  {
   "cell_type": "code",
   "execution_count": 3,
   "id": "9ddca42d",
   "metadata": {},
   "outputs": [],
   "source": [
    "import pyspark "
   ]
  },
  {
   "cell_type": "code",
   "execution_count": 4,
   "id": "5862f43b",
   "metadata": {},
   "outputs": [],
   "source": [
    "import os\n",
    "import pandas as pd\n",
    "import numpy as np\n",
    "\n",
    "from pyspark import SparkConf, SparkContext\n",
    "from pyspark.sql import SparkSession, SQLContext\n",
    "\n",
    "from pyspark.sql.types import *\n",
    "import pyspark.sql.functions as F\n",
    "from pyspark.sql.functions import udf, col\n",
    "\n",
    "from pyspark.ml.regression import LinearRegression\n",
    "from pyspark.mllib.evaluation import RegressionMetrics\n",
    "\n",
    "from pyspark.ml.tuning import ParamGridBuilder, CrossValidator, CrossValidatorModel\n",
    "from pyspark.ml.feature import VectorAssembler, StandardScaler\n",
    "from pyspark.ml.evaluation import RegressionEvaluator"
   ]
  },
  {
   "cell_type": "code",
   "execution_count": 5,
   "id": "f1102f93",
   "metadata": {},
   "outputs": [],
   "source": [
    "import pymongo\n",
    "\n",
    "myclient = pymongo.MongoClient(\"mongodb://localhost:27017/\")\n",
    "mydb = myclient[\"mydatabase\"]\n",
    "mycol = mydb[\"people\"]"
   ]
  },
  {
   "cell_type": "code",
   "execution_count": 6,
   "id": "0bed8069",
   "metadata": {},
   "outputs": [
    {
     "data": {
      "text/html": [
       "<div>\n",
       "<style scoped>\n",
       "    .dataframe tbody tr th:only-of-type {\n",
       "        vertical-align: middle;\n",
       "    }\n",
       "\n",
       "    .dataframe tbody tr th {\n",
       "        vertical-align: top;\n",
       "    }\n",
       "\n",
       "    .dataframe thead th {\n",
       "        text-align: right;\n",
       "    }\n",
       "</style>\n",
       "<table border=\"1\" class=\"dataframe\">\n",
       "  <thead>\n",
       "    <tr style=\"text-align: right;\">\n",
       "      <th></th>\n",
       "      <th>id</th>\n",
       "      <th>addip</th>\n",
       "      <th>years</th>\n",
       "      <th>moth</th>\n",
       "      <th>day</th>\n",
       "      <th>heur</th>\n",
       "      <th>min</th>\n",
       "      <th>sec</th>\n",
       "      <th>method</th>\n",
       "      <th>status</th>\n",
       "    </tr>\n",
       "  </thead>\n",
       "  <tbody>\n",
       "    <tr>\n",
       "      <th>0</th>\n",
       "      <td>1183</td>\n",
       "      <td>77.245.233.52</td>\n",
       "      <td>2019</td>\n",
       "      <td>1</td>\n",
       "      <td>22</td>\n",
       "      <td>12</td>\n",
       "      <td>38</td>\n",
       "      <td>59</td>\n",
       "      <td>GET</td>\n",
       "      <td>200</td>\n",
       "    </tr>\n",
       "    <tr>\n",
       "      <th>1</th>\n",
       "      <td>1184</td>\n",
       "      <td>89.144.137.213</td>\n",
       "      <td>2019</td>\n",
       "      <td>1</td>\n",
       "      <td>22</td>\n",
       "      <td>12</td>\n",
       "      <td>38</td>\n",
       "      <td>59</td>\n",
       "      <td>GET</td>\n",
       "      <td>302</td>\n",
       "    </tr>\n",
       "    <tr>\n",
       "      <th>2</th>\n",
       "      <td>1185</td>\n",
       "      <td>104.248.18.193</td>\n",
       "      <td>2019</td>\n",
       "      <td>1</td>\n",
       "      <td>22</td>\n",
       "      <td>12</td>\n",
       "      <td>38</td>\n",
       "      <td>59</td>\n",
       "      <td>GET</td>\n",
       "      <td>200</td>\n",
       "    </tr>\n",
       "    <tr>\n",
       "      <th>3</th>\n",
       "      <td>1186</td>\n",
       "      <td>93.118.108.2</td>\n",
       "      <td>2019</td>\n",
       "      <td>1</td>\n",
       "      <td>22</td>\n",
       "      <td>12</td>\n",
       "      <td>38</td>\n",
       "      <td>59</td>\n",
       "      <td>GET</td>\n",
       "      <td>200</td>\n",
       "    </tr>\n",
       "    <tr>\n",
       "      <th>4</th>\n",
       "      <td>1187</td>\n",
       "      <td>93.118.108.2</td>\n",
       "      <td>2019</td>\n",
       "      <td>1</td>\n",
       "      <td>22</td>\n",
       "      <td>12</td>\n",
       "      <td>38</td>\n",
       "      <td>59</td>\n",
       "      <td>GET</td>\n",
       "      <td>200</td>\n",
       "    </tr>\n",
       "    <tr>\n",
       "      <th>...</th>\n",
       "      <td>...</td>\n",
       "      <td>...</td>\n",
       "      <td>...</td>\n",
       "      <td>...</td>\n",
       "      <td>...</td>\n",
       "      <td>...</td>\n",
       "      <td>...</td>\n",
       "      <td>...</td>\n",
       "      <td>...</td>\n",
       "      <td>...</td>\n",
       "    </tr>\n",
       "    <tr>\n",
       "      <th>1590</th>\n",
       "      <td>2773</td>\n",
       "      <td>46.224.113.43</td>\n",
       "      <td>2019</td>\n",
       "      <td>1</td>\n",
       "      <td>22</td>\n",
       "      <td>12</td>\n",
       "      <td>39</td>\n",
       "      <td>31</td>\n",
       "      <td>GET</td>\n",
       "      <td>200</td>\n",
       "    </tr>\n",
       "    <tr>\n",
       "      <th>1591</th>\n",
       "      <td>2774</td>\n",
       "      <td>31.59.209.196</td>\n",
       "      <td>2019</td>\n",
       "      <td>1</td>\n",
       "      <td>22</td>\n",
       "      <td>12</td>\n",
       "      <td>39</td>\n",
       "      <td>31</td>\n",
       "      <td>GET</td>\n",
       "      <td>302</td>\n",
       "    </tr>\n",
       "    <tr>\n",
       "      <th>1592</th>\n",
       "      <td>2775</td>\n",
       "      <td>46.62.152.3</td>\n",
       "      <td>2019</td>\n",
       "      <td>1</td>\n",
       "      <td>22</td>\n",
       "      <td>12</td>\n",
       "      <td>39</td>\n",
       "      <td>31</td>\n",
       "      <td>GET</td>\n",
       "      <td>200</td>\n",
       "    </tr>\n",
       "    <tr>\n",
       "      <th>1593</th>\n",
       "      <td>2776</td>\n",
       "      <td>185.186.240.178</td>\n",
       "      <td>2019</td>\n",
       "      <td>1</td>\n",
       "      <td>22</td>\n",
       "      <td>12</td>\n",
       "      <td>39</td>\n",
       "      <td>31</td>\n",
       "      <td>GET</td>\n",
       "      <td>200</td>\n",
       "    </tr>\n",
       "    <tr>\n",
       "      <th>1594</th>\n",
       "      <td>2777</td>\n",
       "      <td>195.201.247.101</td>\n",
       "      <td>2019</td>\n",
       "      <td>1</td>\n",
       "      <td>22</td>\n",
       "      <td>12</td>\n",
       "      <td>39</td>\n",
       "      <td>31</td>\n",
       "      <td>GET</td>\n",
       "      <td>200</td>\n",
       "    </tr>\n",
       "  </tbody>\n",
       "</table>\n",
       "<p>1595 rows × 10 columns</p>\n",
       "</div>"
      ],
      "text/plain": [
       "        id            addip  years  moth  day  heur  min  sec method  status\n",
       "0     1183    77.245.233.52   2019     1   22    12   38   59    GET     200\n",
       "1     1184   89.144.137.213   2019     1   22    12   38   59    GET     302\n",
       "2     1185   104.248.18.193   2019     1   22    12   38   59    GET     200\n",
       "3     1186     93.118.108.2   2019     1   22    12   38   59    GET     200\n",
       "4     1187     93.118.108.2   2019     1   22    12   38   59    GET     200\n",
       "...    ...              ...    ...   ...  ...   ...  ...  ...    ...     ...\n",
       "1590  2773    46.224.113.43   2019     1   22    12   39   31    GET     200\n",
       "1591  2774    31.59.209.196   2019     1   22    12   39   31    GET     302\n",
       "1592  2775      46.62.152.3   2019     1   22    12   39   31    GET     200\n",
       "1593  2776  185.186.240.178   2019     1   22    12   39   31    GET     200\n",
       "1594  2777  195.201.247.101   2019     1   22    12   39   31    GET     200\n",
       "\n",
       "[1595 rows x 10 columns]"
      ]
     },
     "execution_count": 6,
     "metadata": {},
     "output_type": "execute_result"
    }
   ],
   "source": [
    "import json\n",
    "x = mycol.find()\n",
    "l=[]\n",
    "\n",
    "for data in x:\n",
    "    new_list = list(data.values())\n",
    "    new_list.pop(0)\n",
    "    \n",
    "    l.append(new_list)\n",
    "    \n",
    "df=pd.DataFrame(l ,columns=[\"id\",\"addip\",\"years\",\"moth\",\"day\",\"heur\",\"min\",\"sec\",\"method\",\"status\"])\n",
    "df\n"
   ]
  },
  {
   "cell_type": "code",
   "execution_count": 7,
   "id": "f6b2eeca",
   "metadata": {},
   "outputs": [],
   "source": [
    "# define the schema, corresponding to a line in the csv data file.\n",
    "schema = StructType([\n",
    "    StructField(\"id\", IntegerType(), nullable=True),\n",
    "    StructField(\"addip\", StringType(), nullable=True),\n",
    "    StructField(\"years\", IntegerType(), nullable=True),\n",
    "    StructField(\"moth\", IntegerType(), nullable=True),\n",
    "    StructField(\"day\", IntegerType(), nullable=True),\n",
    "    StructField(\"heur\", IntegerType(), nullable=True),\n",
    "    StructField(\"min\", IntegerType(), nullable=True),\n",
    "    StructField(\"sec\", IntegerType(), nullable=True),\n",
    "    StructField(\"method\", StringType(), nullable=True),\n",
    "    StructField(\"status\", IntegerType(), nullable=True)]\n",
    ")"
   ]
  },
  {
   "cell_type": "code",
   "execution_count": 8,
   "id": "b58d350b",
   "metadata": {},
   "outputs": [],
   "source": [
    "spark = SparkSession.builder.master(\"local[2]\").appName(\"Linear-Regression-California-Housing\").getOrCreate()"
   ]
  },
  {
   "cell_type": "code",
   "execution_count": 9,
   "id": "69aafd76",
   "metadata": {},
   "outputs": [],
   "source": [
    "housing_df = spark.createDataFrame (df, schema=schema)"
   ]
  },
  {
   "cell_type": "code",
   "execution_count": 11,
   "id": "a81fb4dc",
   "metadata": {},
   "outputs": [
    {
     "name": "stdout",
     "output_type": "stream",
     "text": [
      "+----+--------------+-----+----+---+----+---+---+------+------+\n",
      "|  id|         addip|years|moth|day|heur|min|sec|method|status|\n",
      "+----+--------------+-----+----+---+----+---+---+------+------+\n",
      "|1183| 77.245.233.52| 2019|   1| 22|  12| 38| 59|   GET|   200|\n",
      "|1184|89.144.137.213| 2019|   1| 22|  12| 38| 59|   GET|   302|\n",
      "|1185|104.248.18.193| 2019|   1| 22|  12| 38| 59|   GET|   200|\n",
      "|1186|  93.118.108.2| 2019|   1| 22|  12| 38| 59|   GET|   200|\n",
      "|1187|  93.118.108.2| 2019|   1| 22|  12| 38| 59|   GET|   200|\n",
      "+----+--------------+-----+----+---+----+---+---+------+------+\n",
      "only showing top 5 rows\n",
      "\n"
     ]
    }
   ],
   "source": [
    "housing_df.show(5)"
   ]
  },
  {
   "cell_type": "code",
   "execution_count": 12,
   "id": "99cc7d24",
   "metadata": {},
   "outputs": [],
   "source": [
    "g=housing_df.groupBy(\"status\").count().sort(\"status\")"
   ]
  },
  {
   "cell_type": "code",
   "execution_count": 13,
   "id": "0a6e5a79",
   "metadata": {},
   "outputs": [
    {
     "name": "stdout",
     "output_type": "stream",
     "text": [
      "+------+-----+\n",
      "|status|count|\n",
      "+------+-----+\n",
      "|   200| 1542|\n",
      "|   301|    1|\n",
      "|   302|   33|\n",
      "|   304|    8|\n",
      "|   404|    7|\n",
      "|   499|    4|\n",
      "+------+-----+\n",
      "\n"
     ]
    }
   ],
   "source": [
    "g.show()"
   ]
  },
  {
   "cell_type": "code",
   "execution_count": 15,
   "id": "8069f343",
   "metadata": {},
   "outputs": [
    {
     "data": {
      "text/plain": [
       "<AxesSubplot:xlabel='status'>"
      ]
     },
     "execution_count": 15,
     "metadata": {},
     "output_type": "execute_result"
    },
    {
     "data": {
      "image/png": "[encoded data removed]",
      "text/plain": [
       "<Figure size 1008x432 with 1 Axes>"
      ]
     },
     "metadata": {
      "needs_background": "light"
     },
     "output_type": "display_data"
    }
   ],
   "source": [
    "g.toPandas().plot.bar(x=\"status\",figsize=(14, 6))"
   ]
  }
 ],
 "metadata": {
  "kernelspec": {
   "display_name": "Python 3 (ipykernel)",
   "language": "python",
   "name": "python3"
  },
  "language_info": {
   "codemirror_mode": {
    "name": "ipython",
    "version": 3
   },
   "file_extension": ".py",
   "mimetype": "text/x-python",
   "name": "python",
   "nbconvert_exporter": "python",
   "pygments_lexer": "ipython3",
   "version": "3.7.12"
  }
 },
 "nbformat": 4,
 "nbformat_minor": 5
}
