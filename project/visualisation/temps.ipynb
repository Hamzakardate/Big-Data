{
 "cells": [
  {
   "cell_type": "code",
   "execution_count": 1,
   "id": "f8fa1a1d",
   "metadata": {},
   "outputs": [
    {
     "name": "stdout",
     "output_type": "stream",
     "text": [
      "3.7.12\n"
     ]
    }
   ],
   "source": [
    "from platform import python_version\n",
    "\n",
    "print(python_version())"
   ]
  },
  {
   "cell_type": "code",
   "execution_count": 2,
   "id": "61add0a7",
   "metadata": {},
   "outputs": [
    {
     "data": {
      "text/plain": [
       "'C:\\\\spark'"
      ]
     },
     "execution_count": 2,
     "metadata": {},
     "output_type": "execute_result"
    }
   ],
   "source": [
    "import findspark\n",
    "findspark.init()\n",
    "findspark.find()"
   ]
  },
  {
   "cell_type": "code",
   "execution_count": 3,
   "id": "b6067d53",
   "metadata": {},
   "outputs": [],
   "source": [
    "import pyspark "
   ]
  },
  {
   "cell_type": "code",
   "execution_count": 4,
   "id": "10b7ba25",
   "metadata": {},
   "outputs": [],
   "source": [
    "import os\n",
    "import pandas as pd\n",
    "import numpy as np\n",
    "\n",
    "from pyspark import SparkConf, SparkContext\n",
    "from pyspark.sql import SparkSession, SQLContext\n",
    "\n",
    "from pyspark.sql.types import *\n",
    "import pyspark.sql.functions as F\n",
    "from pyspark.sql.functions import udf, col\n",
    "\n",
    "from pyspark.ml.regression import LinearRegression\n",
    "from pyspark.mllib.evaluation import RegressionMetrics\n",
    "\n",
    "from pyspark.ml.tuning import ParamGridBuilder, CrossValidator, CrossValidatorModel\n",
    "from pyspark.ml.feature import VectorAssembler, StandardScaler\n",
    "from pyspark.ml.evaluation import RegressionEvaluator"
   ]
  },
  {
   "cell_type": "code",
   "execution_count": 5,
   "id": "fb5d5121",
   "metadata": {},
   "outputs": [],
   "source": [
    "import pymongo\n",
    "\n",
    "myclient = pymongo.MongoClient(\"mongodb://localhost:27017/\")\n",
    "mydb = myclient[\"mydatabase\"]\n",
    "mycol = mydb[\"people\"]\n"
   ]
  },
  {
   "cell_type": "code",
   "execution_count": 6,
   "id": "650bf0ab",
   "metadata": {},
   "outputs": [
    {
     "data": {
      "text/html": [
       "<div>\n",
       "<style scoped>\n",
       "    .dataframe tbody tr th:only-of-type {\n",
       "        vertical-align: middle;\n",
       "    }\n",
       "\n",
       "    .dataframe tbody tr th {\n",
       "        vertical-align: top;\n",
       "    }\n",
       "\n",
       "    .dataframe thead th {\n",
       "        text-align: right;\n",
       "    }\n",
       "</style>\n",
       "<table border=\"1\" class=\"dataframe\">\n",
       "  <thead>\n",
       "    <tr style=\"text-align: right;\">\n",
       "      <th></th>\n",
       "      <th>id</th>\n",
       "      <th>addip</th>\n",
       "      <th>years</th>\n",
       "      <th>moth</th>\n",
       "      <th>day</th>\n",
       "      <th>heur</th>\n",
       "      <th>min</th>\n",
       "      <th>sec</th>\n",
       "      <th>method</th>\n",
       "      <th>status</th>\n",
       "    </tr>\n",
       "  </thead>\n",
       "  <tbody>\n",
       "    <tr>\n",
       "      <th>0</th>\n",
       "      <td>1183</td>\n",
       "      <td>77.245.233.52</td>\n",
       "      <td>2019</td>\n",
       "      <td>1</td>\n",
       "      <td>22</td>\n",
       "      <td>12</td>\n",
       "      <td>38</td>\n",
       "      <td>59</td>\n",
       "      <td>GET</td>\n",
       "      <td>200</td>\n",
       "    </tr>\n",
       "    <tr>\n",
       "      <th>1</th>\n",
       "      <td>1184</td>\n",
       "      <td>89.144.137.213</td>\n",
       "      <td>2019</td>\n",
       "      <td>1</td>\n",
       "      <td>22</td>\n",
       "      <td>12</td>\n",
       "      <td>38</td>\n",
       "      <td>59</td>\n",
       "      <td>GET</td>\n",
       "      <td>302</td>\n",
       "    </tr>\n",
       "    <tr>\n",
       "      <th>2</th>\n",
       "      <td>1185</td>\n",
       "      <td>104.248.18.193</td>\n",
       "      <td>2019</td>\n",
       "      <td>1</td>\n",
       "      <td>22</td>\n",
       "      <td>12</td>\n",
       "      <td>38</td>\n",
       "      <td>59</td>\n",
       "      <td>GET</td>\n",
       "      <td>200</td>\n",
       "    </tr>\n",
       "    <tr>\n",
       "      <th>3</th>\n",
       "      <td>1186</td>\n",
       "      <td>93.118.108.2</td>\n",
       "      <td>2019</td>\n",
       "      <td>1</td>\n",
       "      <td>22</td>\n",
       "      <td>12</td>\n",
       "      <td>38</td>\n",
       "      <td>59</td>\n",
       "      <td>GET</td>\n",
       "      <td>200</td>\n",
       "    </tr>\n",
       "    <tr>\n",
       "      <th>4</th>\n",
       "      <td>1187</td>\n",
       "      <td>93.118.108.2</td>\n",
       "      <td>2019</td>\n",
       "      <td>1</td>\n",
       "      <td>22</td>\n",
       "      <td>12</td>\n",
       "      <td>38</td>\n",
       "      <td>59</td>\n",
       "      <td>GET</td>\n",
       "      <td>200</td>\n",
       "    </tr>\n",
       "    <tr>\n",
       "      <th>...</th>\n",
       "      <td>...</td>\n",
       "      <td>...</td>\n",
       "      <td>...</td>\n",
       "      <td>...</td>\n",
       "      <td>...</td>\n",
       "      <td>...</td>\n",
       "      <td>...</td>\n",
       "      <td>...</td>\n",
       "      <td>...</td>\n",
       "      <td>...</td>\n",
       "    </tr>\n",
       "    <tr>\n",
       "      <th>1590</th>\n",
       "      <td>2773</td>\n",
       "      <td>46.224.113.43</td>\n",
       "      <td>2019</td>\n",
       "      <td>1</td>\n",
       "      <td>22</td>\n",
       "      <td>12</td>\n",
       "      <td>39</td>\n",
       "      <td>31</td>\n",
       "      <td>GET</td>\n",
       "      <td>200</td>\n",
       "    </tr>\n",
       "    <tr>\n",
       "      <th>1591</th>\n",
       "      <td>2774</td>\n",
       "      <td>31.59.209.196</td>\n",
       "      <td>2019</td>\n",
       "      <td>1</td>\n",
       "      <td>22</td>\n",
       "      <td>12</td>\n",
       "      <td>39</td>\n",
       "      <td>31</td>\n",
       "      <td>GET</td>\n",
       "      <td>302</td>\n",
       "    </tr>\n",
       "    <tr>\n",
       "      <th>1592</th>\n",
       "      <td>2775</td>\n",
       "      <td>46.62.152.3</td>\n",
       "      <td>2019</td>\n",
       "      <td>1</td>\n",
       "      <td>22</td>\n",
       "      <td>12</td>\n",
       "      <td>39</td>\n",
       "      <td>31</td>\n",
       "      <td>GET</td>\n",
       "      <td>200</td>\n",
       "    </tr>\n",
       "    <tr>\n",
       "      <th>1593</th>\n",
       "      <td>2776</td>\n",
       "      <td>185.186.240.178</td>\n",
       "      <td>2019</td>\n",
       "      <td>1</td>\n",
       "      <td>22</td>\n",
       "      <td>12</td>\n",
       "      <td>39</td>\n",
       "      <td>31</td>\n",
       "      <td>GET</td>\n",
       "      <td>200</td>\n",
       "    </tr>\n",
       "    <tr>\n",
       "      <th>1594</th>\n",
       "      <td>2777</td>\n",
       "      <td>195.201.247.101</td>\n",
       "      <td>2019</td>\n",
       "      <td>1</td>\n",
       "      <td>22</td>\n",
       "      <td>12</td>\n",
       "      <td>39</td>\n",
       "      <td>31</td>\n",
       "      <td>GET</td>\n",
       "      <td>200</td>\n",
       "    </tr>\n",
       "  </tbody>\n",
       "</table>\n",
       "<p>1595 rows × 10 columns</p>\n",
       "</div>"
      ],
      "text/plain": [
       "        id            addip  years  moth  day  heur  min  sec method  status\n",
       "0     1183    77.245.233.52   2019     1   22    12   38   59    GET     200\n",
       "1     1184   89.144.137.213   2019     1   22    12   38   59    GET     302\n",
       "2     1185   104.248.18.193   2019     1   22    12   38   59    GET     200\n",
       "3     1186     93.118.108.2   2019     1   22    12   38   59    GET     200\n",
       "4     1187     93.118.108.2   2019     1   22    12   38   59    GET     200\n",
       "...    ...              ...    ...   ...  ...   ...  ...  ...    ...     ...\n",
       "1590  2773    46.224.113.43   2019     1   22    12   39   31    GET     200\n",
       "1591  2774    31.59.209.196   2019     1   22    12   39   31    GET     302\n",
       "1592  2775      46.62.152.3   2019     1   22    12   39   31    GET     200\n",
       "1593  2776  185.186.240.178   2019     1   22    12   39   31    GET     200\n",
       "1594  2777  195.201.247.101   2019     1   22    12   39   31    GET     200\n",
       "\n",
       "[1595 rows x 10 columns]"
      ]
     },
     "execution_count": 6,
     "metadata": {},
     "output_type": "execute_result"
    }
   ],
   "source": [
    "import json\n",
    "x = mycol.find()\n",
    "l=[]\n",
    "\n",
    "for data in x:\n",
    "    new_list = list(data.values())\n",
    "    new_list.pop(0)\n",
    "    \n",
    "    l.append(new_list)\n",
    "    \n",
    "df=pd.DataFrame(l ,columns=[\"id\",\"addip\",\"years\",\"moth\",\"day\",\"heur\",\"min\",\"sec\",\"method\",\"status\"])\n",
    "df"
   ]
  },
  {
   "cell_type": "code",
   "execution_count": 7,
   "id": "347d10c8",
   "metadata": {},
   "outputs": [],
   "source": [
    "spark = SparkSession.builder.master(\"local[2]\").appName(\"Linear-Regression-California-Housing\").getOrCreate()"
   ]
  },
  {
   "cell_type": "code",
   "execution_count": 8,
   "id": "da82bea8",
   "metadata": {},
   "outputs": [],
   "source": [
    "# define the schema, corresponding to a line in the csv data file.\n",
    "schema = StructType([\n",
    "    StructField(\"id\", IntegerType(), nullable=True),\n",
    "    StructField(\"addip\", StringType(), nullable=True),\n",
    "    StructField(\"years\", IntegerType(), nullable=True),\n",
    "    StructField(\"moth\", IntegerType(), nullable=True),\n",
    "    StructField(\"day\", IntegerType(), nullable=True),\n",
    "    StructField(\"heur\", IntegerType(), nullable=True),\n",
    "    StructField(\"min\", IntegerType(), nullable=True),\n",
    "    StructField(\"sec\", IntegerType(), nullable=True),\n",
    "    StructField(\"method\", StringType(), nullable=True),\n",
    "    StructField(\"status\", IntegerType(), nullable=True)]\n",
    ")"
   ]
  },
  {
   "cell_type": "code",
   "execution_count": 9,
   "id": "d7fc1416",
   "metadata": {},
   "outputs": [],
   "source": [
    "housing_df = spark.createDataFrame (df, schema=schema)"
   ]
  },
  {
   "cell_type": "code",
   "execution_count": 10,
   "id": "52363614",
   "metadata": {},
   "outputs": [
    {
     "name": "stdout",
     "output_type": "stream",
     "text": [
      "+----+--------------+-----+----+---+----+---+---+------+------+\n",
      "|  id|         addip|years|moth|day|heur|min|sec|method|status|\n",
      "+----+--------------+-----+----+---+----+---+---+------+------+\n",
      "|1183| 77.245.233.52| 2019|   1| 22|  12| 38| 59|   GET|   200|\n",
      "|1184|89.144.137.213| 2019|   1| 22|  12| 38| 59|   GET|   302|\n",
      "|1185|104.248.18.193| 2019|   1| 22|  12| 38| 59|   GET|   200|\n",
      "|1186|  93.118.108.2| 2019|   1| 22|  12| 38| 59|   GET|   200|\n",
      "|1187|  93.118.108.2| 2019|   1| 22|  12| 38| 59|   GET|   200|\n",
      "+----+--------------+-----+----+---+----+---+---+------+------+\n",
      "only showing top 5 rows\n",
      "\n"
     ]
    }
   ],
   "source": [
    "housing_df.show(5)"
   ]
  },
  {
   "cell_type": "code",
   "execution_count": 11,
   "id": "21554491",
   "metadata": {},
   "outputs": [],
   "source": [
    "g=housing_df.groupBy(\"sec\").count().sort(\"sec\")"
   ]
  },
  {
   "cell_type": "code",
   "execution_count": 12,
   "id": "e01a860b",
   "metadata": {},
   "outputs": [
    {
     "name": "stdout",
     "output_type": "stream",
     "text": [
      "+---+-----+\n",
      "|sec|count|\n",
      "+---+-----+\n",
      "|  0|   98|\n",
      "|  1|   44|\n",
      "|  2|   52|\n",
      "|  3|   34|\n",
      "|  4|   21|\n",
      "|  5|   19|\n",
      "|  6|   38|\n",
      "|  7|   61|\n",
      "|  8|   54|\n",
      "|  9|   17|\n",
      "| 10|   89|\n",
      "| 11|   41|\n",
      "| 12|   80|\n",
      "| 13|   96|\n",
      "| 14|   71|\n",
      "| 15|   37|\n",
      "| 16|   21|\n",
      "| 17|   30|\n",
      "| 18|   36|\n",
      "| 19|   25|\n",
      "+---+-----+\n",
      "only showing top 20 rows\n",
      "\n"
     ]
    }
   ],
   "source": [
    "g.show()"
   ]
  },
  {
   "cell_type": "code",
   "execution_count": 13,
   "id": "c21199a3",
   "metadata": {},
   "outputs": [
    {
     "data": {
      "text/plain": [
       "<AxesSubplot:xlabel='count'>"
      ]
     },
     "execution_count": 13,
     "metadata": {},
     "output_type": "execute_result"
    },
    {
     "data": {
      "image/png": "[encoded data removed]",
      "text/plain": [
       "<Figure size 1008x432 with 1 Axes>"
      ]
     },
     "metadata": {
      "needs_background": "light"
     },
     "output_type": "display_data"
    }
   ],
   "source": [
    "g.toPandas().plot.bar(x=\"count\",figsize=(14, 6))"
   ]
  }
 ],
 "metadata": {
  "kernelspec": {
   "display_name": "Python 3 (ipykernel)",
   "language": "python",
   "name": "python3"
  },
  "language_info": {
   "codemirror_mode": {
    "name": "ipython",
    "version": 3
   },
   "file_extension": ".py",
   "mimetype": "text/x-python",
   "name": "python",
   "nbconvert_exporter": "python",
   "pygments_lexer": "ipython3",
   "version": "3.7.12"
  }
 },
 "nbformat": 4,
 "nbformat_minor": 5
}
